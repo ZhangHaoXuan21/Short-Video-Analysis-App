{
 "cells": [
  {
   "cell_type": "markdown",
   "id": "d4440af5",
   "metadata": {},
   "source": [
    "# 1. Create a memory manager that operate using python dictionary"
   ]
  },
  {
   "cell_type": "code",
   "execution_count": 2,
   "id": "c37ee315",
   "metadata": {},
   "outputs": [],
   "source": [
    "import os\n",
    "import pickle\n",
    "from typing import Dict, List\n",
    "\n",
    "\n",
    "class MemoryManager:\n",
    "    def __init__(self, persist: bool = True, filename: str = \"memory_store.pkl\"):\n",
    "        # Structure: { user_id: { session_id: [ {role, content}, ... ] } }\n",
    "        self.memory_store: Dict[str, Dict[str, List[Dict[str, str]]]] = {}\n",
    "\n",
    "        # Persistence settings\n",
    "        self.persist = persist\n",
    "        self.filename = os.path.join(os.path.dirname(__file__), filename)\n",
    "\n",
    "        # Load persisted memory if available\n",
    "        if self.persist:\n",
    "            self.load_memory()\n",
    "\n",
    "    # ---- Persistence ----\n",
    "\n",
    "    def save_memory(self):\n",
    "        \"\"\"Save memory to a pickle file.\"\"\"\n",
    "        try:\n",
    "            with open(self.filename, \"wb\") as f:\n",
    "                pickle.dump(self.memory_store, f)\n",
    "        except Exception as e:\n",
    "            print(f\"[MemoryManager] Warning: Failed to save memory -> {e}\")\n",
    "\n",
    "    def load_memory(self):\n",
    "        \"\"\"Load memory from a pickle file if it exists.\"\"\"\n",
    "        if os.path.exists(self.filename):\n",
    "            try:\n",
    "                with open(self.filename, \"rb\") as f:\n",
    "                    self.memory_store = pickle.load(f)\n",
    "            except Exception as e:\n",
    "                print(f\"[MemoryManager] Warning: Failed to load memory -> {e}\")\n",
    "                self.memory_store = {}\n",
    "\n",
    "    # ---- User & Session Management ----\n",
    "\n",
    "    def add_chat_user(self, user_id: str):\n",
    "        if user_id not in self.memory_store:\n",
    "            self.memory_store[user_id] = {}\n",
    "            if self.persist:\n",
    "                self.save_memory()\n",
    "\n",
    "    def add_chat_session(self, user_id: str, session_id: str):\n",
    "        self.add_chat_user(user_id)\n",
    "        if session_id not in self.memory_store[user_id]:\n",
    "            self.memory_store[user_id][session_id] = []\n",
    "            if self.persist:\n",
    "                self.save_memory()\n",
    "\n",
    "    # ---- Message Handling ----\n",
    "\n",
    "    def add_message(self, user_id: str, session_id: str, role: str, content: str):\n",
    "        self.add_chat_session(user_id, session_id)\n",
    "        self.memory_store[user_id][session_id].append({\"role\": role, \"content\": content})\n",
    "        if self.persist:\n",
    "            self.save_memory()\n",
    "\n",
    "    def get_history(self, user_id: str, session_id: str) -> List[Dict[str, str]]:\n",
    "        return self.memory_store.get(user_id, {}).get(session_id, [])\n",
    "\n",
    "    def get_context(self, user_id: str, session_id: str, top_k: int | None = None) -> str:\n",
    "        history = self.get_history(user_id, session_id)\n",
    "        if not history:\n",
    "            return \"\"\n",
    "        if top_k is not None:\n",
    "            history = history[-top_k:]\n",
    "        return \"\\n\".join([f\"{m['role']}: {m['content']}\" for m in history])\n",
    "\n",
    "    # ---- Cleanup ----\n",
    "\n",
    "    def clear_session(self, user_id: str, session_id: str):\n",
    "        if user_id in self.memory_store and session_id in self.memory_store[user_id]:\n",
    "            self.memory_store[user_id][session_id] = []\n",
    "            if self.persist:\n",
    "                self.save_memory()\n",
    "\n",
    "    def remove_session(self, user_id: str, session_id: str):\n",
    "        if user_id in self.memory_store:\n",
    "            self.memory_store[user_id].pop(session_id, None)\n",
    "            if self.persist:\n",
    "                self.save_memory()\n",
    "\n",
    "    def remove_user(self, user_id: str):\n",
    "        self.memory_store.pop(user_id, None)\n",
    "        if self.persist:\n",
    "            self.save_memory()\n",
    "\n",
    "    # ---- Utility ----\n",
    "\n",
    "    def list_users(self) -> List[str]:\n",
    "        return list(self.memory_store.keys())\n",
    "\n",
    "    def list_sessions(self, user_id: str) -> List[str]:\n",
    "        return list(self.memory_store.get(user_id, {}).keys())\n"
   ]
  },
  {
   "cell_type": "code",
   "execution_count": 7,
   "id": "1c81d27a",
   "metadata": {},
   "outputs": [
    {
     "name": "stdout",
     "output_type": "stream",
     "text": [
      "user: Hello!\n",
      "assistant: Hi there!\n",
      "[{'role': 'user', 'content': 'Hello!'}, {'role': 'assistant', 'content': 'Hi there!'}]\n"
     ]
    }
   ],
   "source": [
    "from memory import MemoryManager\n",
    "\n",
    "# Data automatically saved to memory_store.pkl\n",
    "mm = MemoryManager(persist=True, filename=\"memory_store.pkl\")\n",
    "\n",
    "mm.add_message(\"user1\", \"sessionA\", \"user\", \"Hello!\")\n",
    "mm.add_message(\"user1\", \"sessionA\", \"assistant\", \"Hi there!\")\n",
    "\n",
    "print(mm.get_context(\"user1\", \"sessionA\"))\n",
    "print(mm.get_history(\"user1\", \"sessionA\"))\n",
    "\n",
    "\n"
   ]
  },
  {
   "cell_type": "code",
   "execution_count": 5,
   "id": "f1b9221c",
   "metadata": {},
   "outputs": [],
   "source": [
    "mm.remove_user(\"user1\")"
   ]
  },
  {
   "cell_type": "code",
   "execution_count": 6,
   "id": "9e4ab55c",
   "metadata": {},
   "outputs": [
    {
     "name": "stdout",
     "output_type": "stream",
     "text": [
      "\n"
     ]
    }
   ],
   "source": [
    "print(mm.get_context(\"user1\", \"sessionA\"))"
   ]
  },
  {
   "cell_type": "code",
   "execution_count": null,
   "id": "a555506f",
   "metadata": {},
   "outputs": [],
   "source": []
  },
  {
   "cell_type": "code",
   "execution_count": null,
   "id": "b556c8bc",
   "metadata": {},
   "outputs": [],
   "source": []
  },
  {
   "cell_type": "code",
   "execution_count": null,
   "id": "fa59e4f6",
   "metadata": {},
   "outputs": [],
   "source": []
  }
 ],
 "metadata": {
  "kernelspec": {
   "display_name": "jaredllm",
   "language": "python",
   "name": "python3"
  },
  "language_info": {
   "codemirror_mode": {
    "name": "ipython",
    "version": 3
   },
   "file_extension": ".py",
   "mimetype": "text/x-python",
   "name": "python",
   "nbconvert_exporter": "python",
   "pygments_lexer": "ipython3",
   "version": "3.12.4"
  }
 },
 "nbformat": 4,
 "nbformat_minor": 5
}
